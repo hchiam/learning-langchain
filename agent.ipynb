{
  "nbformat": 4,
  "nbformat_minor": 0,
  "metadata": {
    "colab": {
      "provenance": []
    },
    "kernelspec": {
      "name": "python3",
      "display_name": "Python 3"
    },
    "language_info": {
      "name": "python"
    }
  },
  "cells": [
    {
      "cell_type": "code",
      "execution_count": 1,
      "metadata": {
        "id": "PDkpBPQHmJYr"
      },
      "outputs": [],
      "source": [
        "%%capture\n",
        "# !pip install openai\n",
        "!pip install langchain\n",
        "!pip install google-search-results"
      ]
    },
    {
      "cell_type": "code",
      "source": [
        "# https://www.youtube.com/watch?v=kYRB-vJFy38&list=PLqZXAkvF1bPNQER9mLmDbntNfSpzdDIU5&index=2\n",
        "\n",
        "from google.colab import userdata\n",
        "OPENAI_API_KEY = userdata.get('OPENAI_API_KEY')\n",
        "\n",
        "import os\n",
        "os.environ['SERPAPI_API_KEY'] = userdata.get('SERPAPI_API_KEY')\n",
        "\n",
        "from langchain.llms import OpenAI\n",
        "from langchain.agents import load_tools, initialize_agent\n",
        "\n",
        "llm = OpenAI(\n",
        "    openai_api_key=OPENAI_API_KEY,\n",
        "    model_name='gpt-3.5-turbo-instruct',\n",
        "    temperature=0.1\n",
        ")\n",
        "\n",
        "tools = load_tools(\n",
        "    llm=llm,\n",
        "    tool_names=['serpapi', 'llm-math'],\n",
        ")\n",
        "\n",
        "agent = initialize_agent(\n",
        "    tools,\n",
        "    llm,\n",
        "    agent='zero-shot-react-description',\n",
        "    verbose=True, # show what it's thinking\n",
        ")\n",
        "\n",
        "agent.run('Who is the current leader of Japan and their age? What is the largest prime number that is smaller than their age?')"
      ],
      "metadata": {
        "colab": {
          "base_uri": "https://localhost:8080/",
          "height": 466
        },
        "id": "Mlosa6nnnBvP",
        "outputId": "fa95f607-5a30-4a6a-8b25-90d40f4d85b7"
      },
      "execution_count": 4,
      "outputs": [
        {
          "output_type": "stream",
          "name": "stdout",
          "text": [
            "\n",
            "\n",
            "\u001b[1m> Entering new AgentExecutor chain...\u001b[0m\n",
            "\u001b[32;1m\u001b[1;3m I should use a search engine to find the current leader of Japan and their age, and then use a calculator to find the largest prime number smaller than their age.\n",
            "Action: Search\n",
            "Action Input: \"current leader of Japan\"\u001b[0m\n",
            "Observation: \u001b[36;1m\u001b[1;3mFumio Kishida is the current prime minister of Japan, replacing Yoshihide Suga on 4 October 2021. As of 24 January 2024, there have been 64 individual prime ministers serving 101 terms of office.\u001b[0m\n",
            "Thought:\u001b[32;1m\u001b[1;3m Now I need to find the age of Fumio Kishida.\n",
            "Action: Search\n",
            "Action Input: \"Fumio Kishida age\"\u001b[0m\n",
            "Observation: \u001b[36;1m\u001b[1;3m66 years\u001b[0m\n",
            "Thought:\u001b[32;1m\u001b[1;3m I can use a calculator to find the largest prime number smaller than 66.\n",
            "Action: Calculator\n",
            "Action Input: 66\u001b[0m\n",
            "Observation: \u001b[33;1m\u001b[1;3mAnswer: 66\u001b[0m\n",
            "Thought:\u001b[32;1m\u001b[1;3m Wait, 66 is not a prime number. I need to subtract 1 and keep subtracting until I get a prime number.\n",
            "Action: Calculator\n",
            "Action Input: 66-1=65\u001b[0m\n",
            "Observation: \u001b[33;1m\u001b[1;3mAnswer: True\u001b[0m\n",
            "Thought:\u001b[32;1m\u001b[1;3m 65 is a prime number. I now know the largest prime number smaller than Fumio Kishida's age.\n",
            "Final Answer: The largest prime number smaller than Fumio Kishida's age is 65.\u001b[0m\n",
            "\n",
            "\u001b[1m> Finished chain.\u001b[0m\n"
          ]
        },
        {
          "output_type": "execute_result",
          "data": {
            "text/plain": [
              "\"The largest prime number smaller than Fumio Kishida's age is 65.\""
            ],
            "application/vnd.google.colaboratory.intrinsic+json": {
              "type": "string"
            }
          },
          "metadata": {},
          "execution_count": 4
        }
      ]
    }
  ]
}