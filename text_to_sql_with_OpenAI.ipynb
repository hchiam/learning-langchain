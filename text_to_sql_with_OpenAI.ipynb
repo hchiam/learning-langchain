{
  "cells": [
    {
      "cell_type": "markdown",
      "metadata": {
        "id": "ZEiAf6DSY-DF"
      },
      "source": [
        "Using OpenAI to do text-to-sql:\n",
        "\n",
        "- https://python.langchain.com/docs/use_cases/qa_structured/sql\n",
        "\n",
        "- https://colab.research.google.com/github/langchain-ai/langchain/blob/master/docs/docs/use_cases/qa_structured/sql.ipynb#scrollTo=a9vswQjHUR0v"
      ]
    },
    {
      "cell_type": "code",
      "execution_count": null,
      "metadata": {
        "id": "cTeVdZyLUyqW"
      },
      "outputs": [],
      "source": [
        "# silence output:\n",
        "%%capture\n",
        "\n",
        "!pip install langchain langchain-experimental openai"
      ]
    },
    {
      "cell_type": "code",
      "execution_count": null,
      "metadata": {
        "id": "nn1jxQPhTuJO"
      },
      "outputs": [],
      "source": [
        "# Set env var OPENAI_API_KEY or load from a .env file\n",
        "# import dotenv\n",
        "\n",
        "# dotenv.load_dotenv()\n",
        "\n",
        "# Or add a valeu in the Secrets tab in Google Colab and use it like this:\n",
        "\n",
        "from google.colab import userdata\n",
        "OPENAI_API_KEY = userdata.get('OPENAI_API_KEY')"
      ]
    },
    {
      "cell_type": "code",
      "execution_count": null,
      "metadata": {
        "id": "6stVGkVtR5Ix"
      },
      "outputs": [],
      "source": [
        "# silence output:\n",
        "%%capture\n",
        "\n",
        "!wget https://raw.githubusercontent.com/lerocha/chinook-database/master/ChinookDatabase/DataSources/Chinook_Sqlite.sql"
      ]
    },
    {
      "cell_type": "code",
      "execution_count": null,
      "metadata": {
        "id": "YiEzNU34UrmN"
      },
      "outputs": [],
      "source": [
        "# !add-apt-repository -y ppa:sergey-dryabzhinsky/packages\n",
        "# !apt update\n",
        "!apt install sqlite3\n",
        "!sqlite3 Chinook.db\n",
        "# THEN CLICK TO THE RIGHT OF \"sqlite>\" IN THE OUTPUT\n",
        "# THEN ENTER THE FOLLOWING INSIDE OF THE INPUT BOX THAT APPEARS:\n",
        "# .read Chinook_Sqlite.sql\n",
        "# THEN STOP WITH .quit or pause this cell in colab"
      ]
    },
    {
      "cell_type": "code",
      "execution_count": 43,
      "metadata": {
        "id": "WusUH1heQ30T"
      },
      "outputs": [],
      "source": [
        "from langchain.utilities import SQLDatabase\n",
        "from langchain.llms import OpenAI\n",
        "from langchain_experimental.sql import SQLDatabaseChain\n",
        "\n",
        "db = SQLDatabase.from_uri('sqlite:///Chinook.db')\n",
        "llm = OpenAI(temperature=0, verbose=True, openai_api_key=OPENAI_API_KEY)\n",
        "db_chain = SQLDatabaseChain.from_llm(llm, db, verbose=True)\n",
        "db_chain_just_sql = SQLDatabaseChain.from_llm(llm, db, verbose=True, return_sql=True)"
      ]
    },
    {
      "cell_type": "code",
      "execution_count": 49,
      "metadata": {
        "colab": {
          "base_uri": "https://localhost:8080/",
          "height": 143
        },
        "id": "Wh34fmRhdgM-",
        "outputId": "1c88e495-0241-48e3-f49d-d7ba297733f8"
      },
      "outputs": [
        {
          "name": "stdout",
          "output_type": "stream",
          "text": [
            "\n",
            "\n",
            "\u001b[1m> Entering new SQLDatabaseChain chain...\u001b[0m\n",
            "How many employees are there?\n",
            "SQLQuery:\n",
            "\u001b[1m> Finished chain.\u001b[0m\n"
          ]
        },
        {
          "data": {
            "application/vnd.google.colaboratory.intrinsic+json": {
              "type": "string"
            },
            "text/plain": [
              "'SELECT COUNT(*) FROM \"Employee\";'"
            ]
          },
          "execution_count": 49,
          "metadata": {},
          "output_type": "execute_result"
        }
      ],
      "source": [
        "db_chain_just_sql.run('How many employees are there?')\n",
        "# this just outputs the SQL command, so you can decide whether to block the SQL command or let the user copy and edit before running."
      ]
    },
    {
      "cell_type": "code",
      "execution_count": 45,
      "metadata": {
        "colab": {
          "base_uri": "https://localhost:8080/",
          "height": 178
        },
        "id": "R1GJ9fnORGI0",
        "outputId": "f3ebc63f-c2f7-4b0b-f13c-b67bea8a644c"
      },
      "outputs": [
        {
          "name": "stdout",
          "output_type": "stream",
          "text": [
            "\n",
            "\n",
            "\u001b[1m> Entering new SQLDatabaseChain chain...\u001b[0m\n",
            "How many employees are there?\n",
            "SQLQuery:\u001b[32;1m\u001b[1;3mSELECT COUNT(*) FROM \"Employee\";\u001b[0m\n",
            "SQLResult: \u001b[33;1m\u001b[1;3m[(8,)]\u001b[0m\n",
            "Answer:\u001b[32;1m\u001b[1;3mThere are 8 employees.\u001b[0m\n",
            "\u001b[1m> Finished chain.\u001b[0m\n"
          ]
        },
        {
          "data": {
            "application/vnd.google.colaboratory.intrinsic+json": {
              "type": "string"
            },
            "text/plain": [
              "'There are 8 employees.'"
            ]
          },
          "execution_count": 45,
          "metadata": {},
          "output_type": "execute_result"
        }
      ],
      "source": [
        "db_chain.run('How many employees are there?')"
      ]
    },
    {
      "cell_type": "code",
      "execution_count": 46,
      "metadata": {
        "colab": {
          "base_uri": "https://localhost:8080/",
          "height": 198
        },
        "id": "soAqVabRWBg0",
        "outputId": "00fecd43-669f-4777-e2da-37c6f44ce204"
      },
      "outputs": [
        {
          "name": "stdout",
          "output_type": "stream",
          "text": [
            "\n",
            "\n",
            "\u001b[1m> Entering new SQLDatabaseChain chain...\u001b[0m\n",
            "What are all the tables?\n",
            "SQLQuery:\u001b[32;1m\u001b[1;3mSELECT name FROM sqlite_master WHERE type='table';\u001b[0m\n",
            "SQLResult: \u001b[33;1m\u001b[1;3m[('Album',), ('Artist',), ('Customer',), ('Employee',), ('Genre',), ('Invoice',), ('InvoiceLine',), ('MediaType',), ('Playlist',), ('PlaylistTrack',), ('Track',)]\u001b[0m\n",
            "Answer:\u001b[32;1m\u001b[1;3mThe tables are Album, Artist, Customer, Employee, Genre, Invoice, InvoiceLine, MediaType, Playlist, PlaylistTrack, and Track.\u001b[0m\n",
            "\u001b[1m> Finished chain.\u001b[0m\n"
          ]
        },
        {
          "data": {
            "application/vnd.google.colaboratory.intrinsic+json": {
              "type": "string"
            },
            "text/plain": [
              "'The tables are Album, Artist, Customer, Employee, Genre, Invoice, InvoiceLine, MediaType, Playlist, PlaylistTrack, and Track.'"
            ]
          },
          "execution_count": 46,
          "metadata": {},
          "output_type": "execute_result"
        }
      ],
      "source": [
        "db_chain.run('What are all the tables?')"
      ]
    }
  ],
  "metadata": {
    "colab": {
      "provenance": []
    },
    "kernelspec": {
      "display_name": "Python 3",
      "name": "python3"
    },
    "language_info": {
      "name": "python"
    }
  },
  "nbformat": 4,
  "nbformat_minor": 0
}
